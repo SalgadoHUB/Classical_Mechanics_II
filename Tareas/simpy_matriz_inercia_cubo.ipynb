{
  "nbformat": 4,
  "nbformat_minor": 0,
  "metadata": {
    "colab": {
      "provenance": [],
      "authorship_tag": "ABX9TyOf4FXrTYacFV+hhcWlrJyc",
      "include_colab_link": true
    },
    "kernelspec": {
      "name": "python3",
      "display_name": "Python 3"
    },
    "language_info": {
      "name": "python"
    }
  },
  "cells": [
    {
      "cell_type": "markdown",
      "metadata": {
        "id": "view-in-github",
        "colab_type": "text"
      },
      "source": [
        "<a href=\"https://colab.research.google.com/github/SalgadoHUB/Classical_Mechanics_II/blob/main/simpy_matriz_Inercia_cubo.ipynb\" target=\"_parent\"><img src=\"https://colab.research.google.com/assets/colab-badge.svg\" alt=\"Open In Colab\"/></a>"
      ]
    },
    {
      "cell_type": "markdown",
      "source": [
        "# Ejemplo Cálculo de la Matriz de Inercia"
      ],
      "metadata": {
        "id": "HGjSqjW8YJX8"
      }
    },
    {
      "cell_type": "markdown",
      "source": [
        "Vamos a calcular la matriz de inercia de un cubo macizo. Primero tomaremos origen en el CDM y despueś en un vértice. Veremos que estas dos matrices se relacionan mediante el teorema de Steiner. Aprenderemos también a diagonalizar una matriz de inercia para encontrar las direcciones de los ejes principales.\n",
        "\n"
      ],
      "metadata": {
        "id": "dRKyS8pLyVf0"
      }
    },
    {
      "cell_type": "markdown",
      "source": [
        "## Uso de Integrales\n",
        "En primer lugar vamos a trabajar con integrales para calcular los momentos de inercia.\n",
        "Queremos calcular la matriz de inercia para un cubo macizo, de densidad uniforme y lado L, para ejes que pasan por su CDM y son perpendiculares a las caras del cubo.\n",
        "Usamos la función \"integrate\" del módulo simpy:\n",
        "integrate(f, (x, a, b))\n",
        "que devuelve la integral definida de f entre a y b."
      ],
      "metadata": {
        "id": "7u7luFjwYUXI"
      }
    },
    {
      "cell_type": "markdown",
      "source": [
        "Primero importamos sympy y definimos nuestras variables"
      ],
      "metadata": {
        "id": "e1hAJpKBa1sg"
      }
    },
    {
      "cell_type": "code",
      "source": [
        "import sympy as smp\n",
        "\n",
        "x, y, z = smp.symbols('x y z')\n",
        "M, L = smp.symbols('M L')\n",
        "\n",
        "V = L**3 # volumen del cubo\n",
        "D = M/V # Densidad\n"
      ],
      "metadata": {
        "id": "EwjcUaO8YP79"
      },
      "execution_count": null,
      "outputs": []
    },
    {
      "cell_type": "markdown",
      "source": [
        "Ahora definimos los elementos de la matriz de inercia, usando integrales definidas, y tomando origen en CDM. Empezamos colocando nuestro origen en el centro del cubo, haciendo que los ejes sean paralelos a las aristas (perpendiculares a las caras por las que emergen). Los límites de integración serán (-L/2, L/2) en los  tres ejes.\n",
        "Para hacer una integral triple simplemente hay que pasar los argumentos de las tres integrales"
      ],
      "metadata": {
        "id": "QqvV4HlWa6QZ"
      }
    },
    {
      "cell_type": "code",
      "source": [
        "smp.integrate(D*(y**2 + z**2), (x,-L/2, L/2), (y,-L/2, L/2), (z,-L/2, L/2))"
      ],
      "metadata": {
        "colab": {
          "base_uri": "https://localhost:8080/",
          "height": 54
        },
        "id": "DYeM-xo60T4X",
        "outputId": "5505dcc8-a9c3-4429-e640-67d45cf73104"
      },
      "execution_count": null,
      "outputs": [
        {
          "output_type": "execute_result",
          "data": {
            "text/plain": [
              "L**2*M/6"
            ],
            "text/latex": "$\\displaystyle \\frac{L^{2} M}{6}$"
          },
          "metadata": {},
          "execution_count": 63
        }
      ]
    },
    {
      "cell_type": "code",
      "source": [
        "Ixx = smp.integrate(smp.integrate(smp.integrate(D*(y**2 + z**2), (x,-L/2, L/2)), (y,-L/2, L/2)), (z,-L/2, L/2))\n",
        "Iyy = smp.integrate(smp.integrate(smp.integrate(D*(x**2 + z**2), (x,-L/2, L/2)), (y,-L/2, L/2)), (z,-L/2, L/2))\n",
        "Izz = smp.integrate(smp.integrate(smp.integrate(D*(y**2 + x**2), (x,-L/2, L/2)), (y,-L/2, L/2)), (z,-L/2, L/2))\n",
        "\n",
        "Ixy = smp.integrate(smp.integrate(smp.integrate(-D*x*y, (x,-L/2, L/2)), (y,-L/2, L/2)), (z,-L/2, L/2))\n",
        "Ixz = smp.integrate(smp.integrate(smp.integrate(-D*x*z, (x,-L/2, L/2)), (y,-L/2, L/2)), (z,-L/2, L/2))\n",
        "Iyz = smp.integrate(smp.integrate(smp.integrate(-D*y*z, (x,-L/2, L/2)), (y,-L/2, L/2)), (z,-L/2, L/2))\n",
        "\n",
        "Iyx = Ixy\n",
        "Izx = Ixz\n",
        "Izy = Iyz"
      ],
      "metadata": {
        "id": "FCjRHNNBZo4r"
      },
      "execution_count": null,
      "outputs": []
    },
    {
      "cell_type": "markdown",
      "source": [
        "Ahora creamos la matriz I respecto CDM"
      ],
      "metadata": {
        "id": "ehhK9n1Lfwh5"
      }
    },
    {
      "cell_type": "code",
      "source": [
        "I_cdm = smp.Matrix([[Ixx, Ixy, Ixz], [Iyx, Iyy, Iyz], [Izx, Izy, Izz]])\n",
        "I_cdm"
      ],
      "metadata": {
        "colab": {
          "base_uri": "https://localhost:8080/",
          "height": 89
        },
        "id": "5DpM7W7_c12R",
        "outputId": "8a3f86fe-ba05-4079-d82e-d1eda5f8ff00"
      },
      "execution_count": null,
      "outputs": [
        {
          "output_type": "execute_result",
          "data": {
            "text/plain": [
              "Matrix([\n",
              "[L**2*M/6,        0,        0],\n",
              "[       0, L**2*M/6,        0],\n",
              "[       0,        0, L**2*M/6]])"
            ],
            "text/latex": "$\\displaystyle \\left[\\begin{matrix}\\frac{L^{2} M}{6} & 0 & 0\\\\0 & \\frac{L^{2} M}{6} & 0\\\\0 & 0 & \\frac{L^{2} M}{6}\\end{matrix}\\right]$"
          },
          "metadata": {},
          "execution_count": 49
        }
      ]
    },
    {
      "cell_type": "markdown",
      "source": [
        "Hemos obtenido una matriz diagonal, lo que nos indica que las direcciones elegidas son ejes principales de inercia. Además los tres momentos principales son iguales, así que cualquier eje que pase por el CDM será eje principal de inercia (es un cuerpo completamente simétrico)"
      ],
      "metadata": {
        "id": "0zBHbDTignAJ"
      }
    },
    {
      "cell_type": "markdown",
      "source": [
        "Cambiamos ahora de origen, y nos colocamos en un vértice. Los límites de integración serán (0,L) en los tres ejes."
      ],
      "metadata": {
        "id": "pvurKiXNoDcn"
      }
    },
    {
      "cell_type": "code",
      "source": [
        "Ixx = smp.integrate(smp.integrate(smp.integrate(D*(y**2 + z**2), (x,0, L)), (y,0, L)), (z,0, L))\n",
        "Iyy = smp.integrate(smp.integrate(smp.integrate(D*(x**2 + z**2), (x,0, L)), (y,0, L)), (z,0, L))\n",
        "Izz = smp.integrate(smp.integrate(smp.integrate(D*(y**2 + x**2), (x,0, L)), (y,0, L)), (z,0, L))\n",
        "\n",
        "Ixy = smp.integrate(smp.integrate(smp.integrate(-D*x*y, (x,0, L)), (y,0, L)), (z,0, L))\n",
        "Ixz = smp.integrate(smp.integrate(smp.integrate(-D*x*z, (x,0, L)), (y,0, L)), (z,0, L))\n",
        "Iyz = smp.integrate(smp.integrate(smp.integrate(-D*y*z, (x,0, L)), (y,0, L)), (z,0, L))\n",
        "\n",
        "Iyx = Ixy\n",
        "Izx = Ixz\n",
        "Izy = Iyz\n",
        "\n",
        "I_vertice = smp.Matrix([[Ixx, Ixy, Ixz], [Iyx, Iyy, Iyz], [Izx, Izy, Izz]])\n",
        "I_vertice"
      ],
      "metadata": {
        "colab": {
          "base_uri": "https://localhost:8080/",
          "height": 89
        },
        "id": "4kNx_4TDoMWY",
        "outputId": "308133c2-0ed7-4e3d-d6c5-98587bbff866"
      },
      "execution_count": null,
      "outputs": [
        {
          "output_type": "execute_result",
          "data": {
            "text/plain": [
              "Matrix([\n",
              "[2*L**2*M/3,  -L**2*M/4,  -L**2*M/4],\n",
              "[ -L**2*M/4, 2*L**2*M/3,  -L**2*M/4],\n",
              "[ -L**2*M/4,  -L**2*M/4, 2*L**2*M/3]])"
            ],
            "text/latex": "$\\displaystyle \\left[\\begin{matrix}\\frac{2 L^{2} M}{3} & - \\frac{L^{2} M}{4} & - \\frac{L^{2} M}{4}\\\\- \\frac{L^{2} M}{4} & \\frac{2 L^{2} M}{3} & - \\frac{L^{2} M}{4}\\\\- \\frac{L^{2} M}{4} & - \\frac{L^{2} M}{4} & \\frac{2 L^{2} M}{3}\\end{matrix}\\right]$"
          },
          "metadata": {},
          "execution_count": 50
        }
      ]
    },
    {
      "cell_type": "markdown",
      "source": [
        "# Teorema de Steiner"
      ],
      "metadata": {
        "id": "AMZUP9s9gZ7A"
      }
    },
    {
      "cell_type": "markdown",
      "source": [
        "Comprobamos que los dos resultados anteriores cumplen el Teorema de Steiner. Para ello primero calculamos la matriz de traslación, usando el vector posición del CDM respecto del vértice."
      ],
      "metadata": {
        "id": "XZFhJW04o864"
      }
    },
    {
      "cell_type": "code",
      "source": [
        "R = smp.Matrix([L/2, L/2, L/2])\n",
        "\n",
        "Ixx = M*(R[1]**2 + R[2]**2)\n",
        "Iyy = M*(R[0]**2 + R[2]**2)\n",
        "Izz = M*(R[1]**2 + R[0]**2)\n",
        "\n",
        "Ixy = -M*R[0]*R[1]\n",
        "Ixz = -M*R[0]*R[2]\n",
        "Iyz = -M*R[2]*R[1]\n",
        "\n",
        "Iyx = Ixy\n",
        "Izx = Ixz\n",
        "Izy = Iyz\n",
        "\n",
        "I_R = smp.Matrix([[Ixx, Ixy, Ixz], [Iyx, Iyy, Iyz], [Izx, Izy, Izz]])\n",
        "I_R"
      ],
      "metadata": {
        "id": "zQsIXjLKgUoM",
        "colab": {
          "base_uri": "https://localhost:8080/",
          "height": 89
        },
        "outputId": "9b29d81a-0204-41a6-d1dc-66b89db5c849"
      },
      "execution_count": null,
      "outputs": [
        {
          "output_type": "execute_result",
          "data": {
            "text/plain": [
              "Matrix([\n",
              "[ L**2*M/2, -L**2*M/4, -L**2*M/4],\n",
              "[-L**2*M/4,  L**2*M/2, -L**2*M/4],\n",
              "[-L**2*M/4, -L**2*M/4,  L**2*M/2]])"
            ],
            "text/latex": "$\\displaystyle \\left[\\begin{matrix}\\frac{L^{2} M}{2} & - \\frac{L^{2} M}{4} & - \\frac{L^{2} M}{4}\\\\- \\frac{L^{2} M}{4} & \\frac{L^{2} M}{2} & - \\frac{L^{2} M}{4}\\\\- \\frac{L^{2} M}{4} & - \\frac{L^{2} M}{4} & \\frac{L^{2} M}{2}\\end{matrix}\\right]$"
          },
          "metadata": {},
          "execution_count": 51
        }
      ]
    },
    {
      "cell_type": "code",
      "source": [
        "I_Steiner = I_R + I_cdm\n",
        "I_Steiner"
      ],
      "metadata": {
        "colab": {
          "base_uri": "https://localhost:8080/",
          "height": 89
        },
        "id": "eEVWbOqYqAJk",
        "outputId": "5d6d4c83-2d2b-4091-9a3e-f31157c8b519"
      },
      "execution_count": null,
      "outputs": [
        {
          "output_type": "execute_result",
          "data": {
            "text/plain": [
              "Matrix([\n",
              "[2*L**2*M/3,  -L**2*M/4,  -L**2*M/4],\n",
              "[ -L**2*M/4, 2*L**2*M/3,  -L**2*M/4],\n",
              "[ -L**2*M/4,  -L**2*M/4, 2*L**2*M/3]])"
            ],
            "text/latex": "$\\displaystyle \\left[\\begin{matrix}\\frac{2 L^{2} M}{3} & - \\frac{L^{2} M}{4} & - \\frac{L^{2} M}{4}\\\\- \\frac{L^{2} M}{4} & \\frac{2 L^{2} M}{3} & - \\frac{L^{2} M}{4}\\\\- \\frac{L^{2} M}{4} & - \\frac{L^{2} M}{4} & \\frac{2 L^{2} M}{3}\\end{matrix}\\right]$"
          },
          "metadata": {},
          "execution_count": 52
        }
      ]
    },
    {
      "cell_type": "markdown",
      "source": [
        "Comprobamos que hemos obtenido el mismo resultado"
      ],
      "metadata": {
        "id": "jyK7x3gisQQa"
      }
    },
    {
      "cell_type": "code",
      "source": [
        "I_Steiner == I_vertice"
      ],
      "metadata": {
        "colab": {
          "base_uri": "https://localhost:8080/"
        },
        "id": "GHohC-N9qB8J",
        "outputId": "756371fb-71ea-4ef7-fdeb-6b6120ec5bf6"
      },
      "execution_count": null,
      "outputs": [
        {
          "output_type": "execute_result",
          "data": {
            "text/plain": [
              "True"
            ]
          },
          "metadata": {},
          "execution_count": 53
        }
      ]
    },
    {
      "cell_type": "markdown",
      "source": [
        "# Ejes principales respecto al vértice"
      ],
      "metadata": {
        "id": "zKQiB8u6sZbT"
      }
    },
    {
      "cell_type": "markdown",
      "source": [
        "La matriz respecto del vértice no es diagonal.  Vamos a diagonalizarla para encontrar los ejes principales respecto del vértice.\n",
        "Simplemete usamos la función \"eigenvects()\", que devuleve una lista de tuplas con la forma (eigenvalue, algebraic_multiplicity, [eigenvectors])."
      ],
      "metadata": {
        "id": "ddghdjgLsdRb"
      }
    },
    {
      "cell_type": "code",
      "source": [
        "I_vertice.eigenvects()"
      ],
      "metadata": {
        "colab": {
          "base_uri": "https://localhost:8080/"
        },
        "id": "2rY5OgfOsL5r",
        "outputId": "1f89e1e1-c9fd-4207-93a6-31b4069cd511"
      },
      "execution_count": null,
      "outputs": [
        {
          "output_type": "execute_result",
          "data": {
            "text/plain": [
              "[(L**2*M/6,\n",
              "  1,\n",
              "  [Matrix([\n",
              "   [1],\n",
              "   [1],\n",
              "   [1]])]),\n",
              " (11*L**2*M/12,\n",
              "  2,\n",
              "  [Matrix([\n",
              "   [-1],\n",
              "   [ 1],\n",
              "   [ 0]]),\n",
              "   Matrix([\n",
              "   [-1],\n",
              "   [ 0],\n",
              "   [ 1]])])]"
            ]
          },
          "metadata": {},
          "execution_count": 54
        }
      ]
    },
    {
      "cell_type": "markdown",
      "source": [
        "Es decir, tenemos un eje en la dirección (1,1,1), que es la diagonal del cubo. Los otros dos ejes son perpendiculares, y los autovalores en las direcciones perpendiculares son iguales (multiplicidad 2)"
      ],
      "metadata": {
        "id": "QaXbu1pAuPu-"
      }
    },
    {
      "cell_type": "markdown",
      "source": [
        "Vemos también que el momento principal en la dirección vertical es M*L²/6, el mismo que teníamos en la matriz respecto al CDM. Esto es lógico, ya que I_cdm era diagonal, y cualquier eje que pase por el CDM (como la diagonal del cubo) es también eje principal en esa base."
      ],
      "metadata": {
        "id": "h47MMI9Mv4Cq"
      }
    },
    {
      "cell_type": "markdown",
      "source": [
        "Otra forma de calcularlo es la función \"diagonalize()\", que nos devuelve la matriz con los autovectores (columna) y la matriz diagonalizada"
      ],
      "metadata": {
        "id": "TvImR8lYuhy5"
      }
    },
    {
      "cell_type": "code",
      "source": [
        "P, I0 = I_vertice.diagonalize()"
      ],
      "metadata": {
        "id": "X6gHmIxPtzRj"
      },
      "execution_count": null,
      "outputs": []
    },
    {
      "cell_type": "code",
      "source": [
        "P"
      ],
      "metadata": {
        "colab": {
          "base_uri": "https://localhost:8080/",
          "height": 79
        },
        "id": "ArI1gYCqtTnz",
        "outputId": "637976cf-db13-44a6-af47-ffca26bbc875"
      },
      "execution_count": null,
      "outputs": [
        {
          "output_type": "execute_result",
          "data": {
            "text/plain": [
              "Matrix([\n",
              "[1, -1, -1],\n",
              "[1,  1,  0],\n",
              "[1,  0,  1]])"
            ],
            "text/latex": "$\\displaystyle \\left[\\begin{matrix}1 & -1 & -1\\\\1 & 1 & 0\\\\1 & 0 & 1\\end{matrix}\\right]$"
          },
          "metadata": {},
          "execution_count": 56
        }
      ]
    },
    {
      "cell_type": "code",
      "source": [
        "I0"
      ],
      "metadata": {
        "colab": {
          "base_uri": "https://localhost:8080/",
          "height": 89
        },
        "id": "wUgkXaopuW9v",
        "outputId": "d23df554-689e-4d50-b143-ef7bc9b5eec6"
      },
      "execution_count": null,
      "outputs": [
        {
          "output_type": "execute_result",
          "data": {
            "text/plain": [
              "Matrix([\n",
              "[L**2*M/6,            0,            0],\n",
              "[       0, 11*L**2*M/12,            0],\n",
              "[       0,            0, 11*L**2*M/12]])"
            ],
            "text/latex": "$\\displaystyle \\left[\\begin{matrix}\\frac{L^{2} M}{6} & 0 & 0\\\\0 & \\frac{11 L^{2} M}{12} & 0\\\\0 & 0 & \\frac{11 L^{2} M}{12}\\end{matrix}\\right]$"
          },
          "metadata": {},
          "execution_count": 57
        }
      ]
    },
    {
      "cell_type": "markdown",
      "source": [
        "Comprobamos que I0 es la matriz diagonalizada"
      ],
      "metadata": {
        "id": "1wVJmlLLu8ax"
      }
    },
    {
      "cell_type": "code",
      "source": [
        "P*I0*P**-1 == I_vertice"
      ],
      "metadata": {
        "colab": {
          "base_uri": "https://localhost:8080/"
        },
        "id": "_WW9r57ru3II",
        "outputId": "c640ce1b-6af1-4850-80f5-f25ec2f5e439"
      },
      "execution_count": null,
      "outputs": [
        {
          "output_type": "execute_result",
          "data": {
            "text/plain": [
              "True"
            ]
          },
          "metadata": {},
          "execution_count": 58
        }
      ]
    }
  ]
}
